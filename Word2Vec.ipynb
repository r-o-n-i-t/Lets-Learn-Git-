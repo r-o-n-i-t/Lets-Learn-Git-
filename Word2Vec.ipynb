{
  "nbformat": 4,
  "nbformat_minor": 0,
  "metadata": {
    "colab": {
      "provenance": [],
      "authorship_tag": "ABX9TyN14480WEwBRIcnxqo+YZs+",
      "include_colab_link": true
    },
    "kernelspec": {
      "name": "python3",
      "display_name": "Python 3"
    },
    "language_info": {
      "name": "python"
    }
  },
  "cells": [
    {
      "cell_type": "markdown",
      "metadata": {
        "id": "view-in-github",
        "colab_type": "text"
      },
      "source": [
        "<a href=\"https://colab.research.google.com/github/r-o-n-i-t/Lets-Learn-Git-/blob/master/Word2Vec.ipynb\" target=\"_parent\"><img src=\"https://colab.research.google.com/assets/colab-badge.svg\" alt=\"Open In Colab\"/></a>"
      ]
    },
    {
      "cell_type": "code",
      "execution_count": 32,
      "metadata": {
        "id": "r2IL9z3eFsLU"
      },
      "outputs": [],
      "source": [
        "import gensim\n",
        "import pandas as pd\n",
        "import numpy as np\n",
        "import matplotlib.pyplot as plt"
      ]
    },
    {
      "cell_type": "markdown",
      "source": [
        "## Reading and Exploring the Dataset\n",
        "\n",
        "The dataset we are using here is a subset of Amazon reviews from the Cell Phones & Accessories category. The data is stored as a JSON file and can be read using pandas.\n",
        "\n",
        "Link to the Dataset: http://snap.stanford.edu/data/amazon/productGraph/categoryFiles/reviews_Cell_Phones_and_Accessories_5.json.gz\n",
        "\n"
      ],
      "metadata": {
        "id": "_fkfldvPHz1k"
      }
    },
    {
      "cell_type": "code",
      "source": [
        "df = pd.read_json(\"http://snap.stanford.edu/data/amazon/productGraph/categoryFiles/reviews_Cell_Phones_and_Accessories_5.json.gz\", lines=True)\n",
        "df"
      ],
      "metadata": {
        "colab": {
          "base_uri": "https://localhost:8080/",
          "height": 641
        },
        "id": "wKWkObcmHaNF",
        "outputId": "ef7070e5-2ad0-47f9-af42-6c90b3bd3df9"
      },
      "execution_count": 15,
      "outputs": [
        {
          "output_type": "execute_result",
          "data": {
            "text/plain": [
              "            reviewerID        asin       reviewerName helpful  \\\n",
              "0       A30TL5EWN6DFXT  120401325X          christina  [0, 0]   \n",
              "1        ASY55RVNIL0UD  120401325X           emily l.  [0, 0]   \n",
              "2       A2TMXE2AFO7ONB  120401325X              Erica  [0, 0]   \n",
              "3        AWJ0WZQYMYFQ4  120401325X                 JM  [4, 4]   \n",
              "4        ATX7CZYFXI1KW  120401325X   patrice m rogoza  [2, 3]   \n",
              "...                ...         ...                ...     ...   \n",
              "194434  A1YMNTFLNDYQ1F  B00LORXVUE    eyeused2loveher  [0, 0]   \n",
              "194435  A15TX8B2L8B20S  B00LORXVUE       Jon Davidson  [0, 0]   \n",
              "194436  A3JI7QRZO1QG8X  B00LORXVUE  Joyce M. Davidson  [0, 0]   \n",
              "194437  A1NHB2VC68YQNM  B00LORXVUE     Nurse Farrugia  [0, 0]   \n",
              "194438  A1AG6U022WHXBF  B00LORXVUE     Trisha Crocker  [0, 0]   \n",
              "\n",
              "                                               reviewText  overall  \\\n",
              "0       They look good and stick good! I just don't li...        4   \n",
              "1       These stickers work like the review says they ...        5   \n",
              "2       These are awesome and make my phone look so st...        5   \n",
              "3       Item arrived in great time and was in perfect ...        4   \n",
              "4       awesome! stays on, and looks great. can be use...        5   \n",
              "...                                                   ...      ...   \n",
              "194434  Works great just like my original one. I reall...        5   \n",
              "194435  Great product. Great packaging. High quality a...        5   \n",
              "194436  This is a great cable, just as good as the mor...        5   \n",
              "194437  I really like it becasue it works well with my...        5   \n",
              "194438  product as described, I have wasted a lot of m...        5   \n",
              "\n",
              "                                                  summary  unixReviewTime  \\\n",
              "0                                              Looks Good      1400630400   \n",
              "1                                   Really great product.      1389657600   \n",
              "2                                          LOVE LOVE LOVE      1403740800   \n",
              "3                                                   Cute!      1382313600   \n",
              "4               leopard home button sticker for iphone 4s      1359849600   \n",
              "...                                                   ...             ...   \n",
              "194434                           This works just perfect!      1405900800   \n",
              "194435           Great replacement cable. Apple certified      1405900800   \n",
              "194436                                       Real quality      1405900800   \n",
              "194437  I really like it becasue it works well with my...      1405814400   \n",
              "194438              I have wasted a lot of money on cords      1405900800   \n",
              "\n",
              "         reviewTime  \n",
              "0       05 21, 2014  \n",
              "1       01 14, 2014  \n",
              "2       06 26, 2014  \n",
              "3       10 21, 2013  \n",
              "4        02 3, 2013  \n",
              "...             ...  \n",
              "194434  07 21, 2014  \n",
              "194435  07 21, 2014  \n",
              "194436  07 21, 2014  \n",
              "194437  07 20, 2014  \n",
              "194438  07 21, 2014  \n",
              "\n",
              "[194439 rows x 9 columns]"
            ],
            "text/html": [
              "\n",
              "  <div id=\"df-2ee8bd79-b9ca-4ad3-8c2f-6577810fd3eb\">\n",
              "    <div class=\"colab-df-container\">\n",
              "      <div>\n",
              "<style scoped>\n",
              "    .dataframe tbody tr th:only-of-type {\n",
              "        vertical-align: middle;\n",
              "    }\n",
              "\n",
              "    .dataframe tbody tr th {\n",
              "        vertical-align: top;\n",
              "    }\n",
              "\n",
              "    .dataframe thead th {\n",
              "        text-align: right;\n",
              "    }\n",
              "</style>\n",
              "<table border=\"1\" class=\"dataframe\">\n",
              "  <thead>\n",
              "    <tr style=\"text-align: right;\">\n",
              "      <th></th>\n",
              "      <th>reviewerID</th>\n",
              "      <th>asin</th>\n",
              "      <th>reviewerName</th>\n",
              "      <th>helpful</th>\n",
              "      <th>reviewText</th>\n",
              "      <th>overall</th>\n",
              "      <th>summary</th>\n",
              "      <th>unixReviewTime</th>\n",
              "      <th>reviewTime</th>\n",
              "    </tr>\n",
              "  </thead>\n",
              "  <tbody>\n",
              "    <tr>\n",
              "      <th>0</th>\n",
              "      <td>A30TL5EWN6DFXT</td>\n",
              "      <td>120401325X</td>\n",
              "      <td>christina</td>\n",
              "      <td>[0, 0]</td>\n",
              "      <td>They look good and stick good! I just don't li...</td>\n",
              "      <td>4</td>\n",
              "      <td>Looks Good</td>\n",
              "      <td>1400630400</td>\n",
              "      <td>05 21, 2014</td>\n",
              "    </tr>\n",
              "    <tr>\n",
              "      <th>1</th>\n",
              "      <td>ASY55RVNIL0UD</td>\n",
              "      <td>120401325X</td>\n",
              "      <td>emily l.</td>\n",
              "      <td>[0, 0]</td>\n",
              "      <td>These stickers work like the review says they ...</td>\n",
              "      <td>5</td>\n",
              "      <td>Really great product.</td>\n",
              "      <td>1389657600</td>\n",
              "      <td>01 14, 2014</td>\n",
              "    </tr>\n",
              "    <tr>\n",
              "      <th>2</th>\n",
              "      <td>A2TMXE2AFO7ONB</td>\n",
              "      <td>120401325X</td>\n",
              "      <td>Erica</td>\n",
              "      <td>[0, 0]</td>\n",
              "      <td>These are awesome and make my phone look so st...</td>\n",
              "      <td>5</td>\n",
              "      <td>LOVE LOVE LOVE</td>\n",
              "      <td>1403740800</td>\n",
              "      <td>06 26, 2014</td>\n",
              "    </tr>\n",
              "    <tr>\n",
              "      <th>3</th>\n",
              "      <td>AWJ0WZQYMYFQ4</td>\n",
              "      <td>120401325X</td>\n",
              "      <td>JM</td>\n",
              "      <td>[4, 4]</td>\n",
              "      <td>Item arrived in great time and was in perfect ...</td>\n",
              "      <td>4</td>\n",
              "      <td>Cute!</td>\n",
              "      <td>1382313600</td>\n",
              "      <td>10 21, 2013</td>\n",
              "    </tr>\n",
              "    <tr>\n",
              "      <th>4</th>\n",
              "      <td>ATX7CZYFXI1KW</td>\n",
              "      <td>120401325X</td>\n",
              "      <td>patrice m rogoza</td>\n",
              "      <td>[2, 3]</td>\n",
              "      <td>awesome! stays on, and looks great. can be use...</td>\n",
              "      <td>5</td>\n",
              "      <td>leopard home button sticker for iphone 4s</td>\n",
              "      <td>1359849600</td>\n",
              "      <td>02 3, 2013</td>\n",
              "    </tr>\n",
              "    <tr>\n",
              "      <th>...</th>\n",
              "      <td>...</td>\n",
              "      <td>...</td>\n",
              "      <td>...</td>\n",
              "      <td>...</td>\n",
              "      <td>...</td>\n",
              "      <td>...</td>\n",
              "      <td>...</td>\n",
              "      <td>...</td>\n",
              "      <td>...</td>\n",
              "    </tr>\n",
              "    <tr>\n",
              "      <th>194434</th>\n",
              "      <td>A1YMNTFLNDYQ1F</td>\n",
              "      <td>B00LORXVUE</td>\n",
              "      <td>eyeused2loveher</td>\n",
              "      <td>[0, 0]</td>\n",
              "      <td>Works great just like my original one. I reall...</td>\n",
              "      <td>5</td>\n",
              "      <td>This works just perfect!</td>\n",
              "      <td>1405900800</td>\n",
              "      <td>07 21, 2014</td>\n",
              "    </tr>\n",
              "    <tr>\n",
              "      <th>194435</th>\n",
              "      <td>A15TX8B2L8B20S</td>\n",
              "      <td>B00LORXVUE</td>\n",
              "      <td>Jon Davidson</td>\n",
              "      <td>[0, 0]</td>\n",
              "      <td>Great product. Great packaging. High quality a...</td>\n",
              "      <td>5</td>\n",
              "      <td>Great replacement cable. Apple certified</td>\n",
              "      <td>1405900800</td>\n",
              "      <td>07 21, 2014</td>\n",
              "    </tr>\n",
              "    <tr>\n",
              "      <th>194436</th>\n",
              "      <td>A3JI7QRZO1QG8X</td>\n",
              "      <td>B00LORXVUE</td>\n",
              "      <td>Joyce M. Davidson</td>\n",
              "      <td>[0, 0]</td>\n",
              "      <td>This is a great cable, just as good as the mor...</td>\n",
              "      <td>5</td>\n",
              "      <td>Real quality</td>\n",
              "      <td>1405900800</td>\n",
              "      <td>07 21, 2014</td>\n",
              "    </tr>\n",
              "    <tr>\n",
              "      <th>194437</th>\n",
              "      <td>A1NHB2VC68YQNM</td>\n",
              "      <td>B00LORXVUE</td>\n",
              "      <td>Nurse Farrugia</td>\n",
              "      <td>[0, 0]</td>\n",
              "      <td>I really like it becasue it works well with my...</td>\n",
              "      <td>5</td>\n",
              "      <td>I really like it becasue it works well with my...</td>\n",
              "      <td>1405814400</td>\n",
              "      <td>07 20, 2014</td>\n",
              "    </tr>\n",
              "    <tr>\n",
              "      <th>194438</th>\n",
              "      <td>A1AG6U022WHXBF</td>\n",
              "      <td>B00LORXVUE</td>\n",
              "      <td>Trisha Crocker</td>\n",
              "      <td>[0, 0]</td>\n",
              "      <td>product as described, I have wasted a lot of m...</td>\n",
              "      <td>5</td>\n",
              "      <td>I have wasted a lot of money on cords</td>\n",
              "      <td>1405900800</td>\n",
              "      <td>07 21, 2014</td>\n",
              "    </tr>\n",
              "  </tbody>\n",
              "</table>\n",
              "<p>194439 rows × 9 columns</p>\n",
              "</div>\n",
              "      <button class=\"colab-df-convert\" onclick=\"convertToInteractive('df-2ee8bd79-b9ca-4ad3-8c2f-6577810fd3eb')\"\n",
              "              title=\"Convert this dataframe to an interactive table.\"\n",
              "              style=\"display:none;\">\n",
              "        \n",
              "  <svg xmlns=\"http://www.w3.org/2000/svg\" height=\"24px\"viewBox=\"0 0 24 24\"\n",
              "       width=\"24px\">\n",
              "    <path d=\"M0 0h24v24H0V0z\" fill=\"none\"/>\n",
              "    <path d=\"M18.56 5.44l.94 2.06.94-2.06 2.06-.94-2.06-.94-.94-2.06-.94 2.06-2.06.94zm-11 1L8.5 8.5l.94-2.06 2.06-.94-2.06-.94L8.5 2.5l-.94 2.06-2.06.94zm10 10l.94 2.06.94-2.06 2.06-.94-2.06-.94-.94-2.06-.94 2.06-2.06.94z\"/><path d=\"M17.41 7.96l-1.37-1.37c-.4-.4-.92-.59-1.43-.59-.52 0-1.04.2-1.43.59L10.3 9.45l-7.72 7.72c-.78.78-.78 2.05 0 2.83L4 21.41c.39.39.9.59 1.41.59.51 0 1.02-.2 1.41-.59l7.78-7.78 2.81-2.81c.8-.78.8-2.07 0-2.86zM5.41 20L4 18.59l7.72-7.72 1.47 1.35L5.41 20z\"/>\n",
              "  </svg>\n",
              "      </button>\n",
              "      \n",
              "  <style>\n",
              "    .colab-df-container {\n",
              "      display:flex;\n",
              "      flex-wrap:wrap;\n",
              "      gap: 12px;\n",
              "    }\n",
              "\n",
              "    .colab-df-convert {\n",
              "      background-color: #E8F0FE;\n",
              "      border: none;\n",
              "      border-radius: 50%;\n",
              "      cursor: pointer;\n",
              "      display: none;\n",
              "      fill: #1967D2;\n",
              "      height: 32px;\n",
              "      padding: 0 0 0 0;\n",
              "      width: 32px;\n",
              "    }\n",
              "\n",
              "    .colab-df-convert:hover {\n",
              "      background-color: #E2EBFA;\n",
              "      box-shadow: 0px 1px 2px rgba(60, 64, 67, 0.3), 0px 1px 3px 1px rgba(60, 64, 67, 0.15);\n",
              "      fill: #174EA6;\n",
              "    }\n",
              "\n",
              "    [theme=dark] .colab-df-convert {\n",
              "      background-color: #3B4455;\n",
              "      fill: #D2E3FC;\n",
              "    }\n",
              "\n",
              "    [theme=dark] .colab-df-convert:hover {\n",
              "      background-color: #434B5C;\n",
              "      box-shadow: 0px 1px 3px 1px rgba(0, 0, 0, 0.15);\n",
              "      filter: drop-shadow(0px 1px 2px rgba(0, 0, 0, 0.3));\n",
              "      fill: #FFFFFF;\n",
              "    }\n",
              "  </style>\n",
              "\n",
              "      <script>\n",
              "        const buttonEl =\n",
              "          document.querySelector('#df-2ee8bd79-b9ca-4ad3-8c2f-6577810fd3eb button.colab-df-convert');\n",
              "        buttonEl.style.display =\n",
              "          google.colab.kernel.accessAllowed ? 'block' : 'none';\n",
              "\n",
              "        async function convertToInteractive(key) {\n",
              "          const element = document.querySelector('#df-2ee8bd79-b9ca-4ad3-8c2f-6577810fd3eb');\n",
              "          const dataTable =\n",
              "            await google.colab.kernel.invokeFunction('convertToInteractive',\n",
              "                                                     [key], {});\n",
              "          if (!dataTable) return;\n",
              "\n",
              "          const docLinkHtml = 'Like what you see? Visit the ' +\n",
              "            '<a target=\"_blank\" href=https://colab.research.google.com/notebooks/data_table.ipynb>data table notebook</a>'\n",
              "            + ' to learn more about interactive tables.';\n",
              "          element.innerHTML = '';\n",
              "          dataTable['output_type'] = 'display_data';\n",
              "          await google.colab.output.renderOutput(dataTable, element);\n",
              "          const docLink = document.createElement('div');\n",
              "          docLink.innerHTML = docLinkHtml;\n",
              "          element.appendChild(docLink);\n",
              "        }\n",
              "      </script>\n",
              "    </div>\n",
              "  </div>\n",
              "  "
            ]
          },
          "metadata": {},
          "execution_count": 15
        }
      ]
    },
    {
      "cell_type": "code",
      "source": [
        "df.shape"
      ],
      "metadata": {
        "colab": {
          "base_uri": "https://localhost:8080/"
        },
        "id": "tncowV0AS1d6",
        "outputId": "b75ea71f-3afa-4016-8298-e4b79fa0e31d"
      },
      "execution_count": 16,
      "outputs": [
        {
          "output_type": "execute_result",
          "data": {
            "text/plain": [
              "(194439, 9)"
            ]
          },
          "metadata": {},
          "execution_count": 16
        }
      ]
    },
    {
      "cell_type": "markdown",
      "source": [
        "## Simple Preprocessing and Tokenization\n",
        "\n",
        "The first thing to do for any data science task is to clean the data. For NLP, we apply various processing like converting all the words to lower case, trimming spaces, removing punctuations. This is something we will do over here too.\n",
        "\n",
        "Additionally, we can also remove stop words like 'and', 'or', 'is', 'the', 'a', 'an' and convert words to their root forms like 'running' to 'run'."
      ],
      "metadata": {
        "id": "oDmoQUYPS3Ks"
      }
    },
    {
      "cell_type": "code",
      "source": [
        "review_text = df.reviewText.apply(gensim.utils.simple_preprocess)"
      ],
      "metadata": {
        "id": "rTSd5XjzS_kz"
      },
      "execution_count": 18,
      "outputs": []
    },
    {
      "cell_type": "code",
      "source": [
        "review_text"
      ],
      "metadata": {
        "colab": {
          "base_uri": "https://localhost:8080/"
        },
        "id": "9HKnGmUATIfU",
        "outputId": "2e66950e-09ab-4f49-daa2-e148b6bf8fb2"
      },
      "execution_count": 19,
      "outputs": [
        {
          "output_type": "execute_result",
          "data": {
            "text/plain": [
              "0         [they, look, good, and, stick, good, just, don...\n",
              "1         [these, stickers, work, like, the, review, say...\n",
              "2         [these, are, awesome, and, make, my, phone, lo...\n",
              "3         [item, arrived, in, great, time, and, was, in,...\n",
              "4         [awesome, stays, on, and, looks, great, can, b...\n",
              "                                ...                        \n",
              "194434    [works, great, just, like, my, original, one, ...\n",
              "194435    [great, product, great, packaging, high, quali...\n",
              "194436    [this, is, great, cable, just, as, good, as, t...\n",
              "194437    [really, like, it, becasue, it, works, well, w...\n",
              "194438    [product, as, described, have, wasted, lot, of...\n",
              "Name: reviewText, Length: 194439, dtype: object"
            ]
          },
          "metadata": {},
          "execution_count": 19
        }
      ]
    },
    {
      "cell_type": "code",
      "source": [
        "review_text.loc[0]"
      ],
      "metadata": {
        "colab": {
          "base_uri": "https://localhost:8080/"
        },
        "id": "H_WxGkHbTJup",
        "outputId": "d11fe13c-b49c-462f-8a38-09679a563d6d"
      },
      "execution_count": 20,
      "outputs": [
        {
          "output_type": "execute_result",
          "data": {
            "text/plain": [
              "['they',\n",
              " 'look',\n",
              " 'good',\n",
              " 'and',\n",
              " 'stick',\n",
              " 'good',\n",
              " 'just',\n",
              " 'don',\n",
              " 'like',\n",
              " 'the',\n",
              " 'rounded',\n",
              " 'shape',\n",
              " 'because',\n",
              " 'was',\n",
              " 'always',\n",
              " 'bumping',\n",
              " 'it',\n",
              " 'and',\n",
              " 'siri',\n",
              " 'kept',\n",
              " 'popping',\n",
              " 'up',\n",
              " 'and',\n",
              " 'it',\n",
              " 'was',\n",
              " 'irritating',\n",
              " 'just',\n",
              " 'won',\n",
              " 'buy',\n",
              " 'product',\n",
              " 'like',\n",
              " 'this',\n",
              " 'again']"
            ]
          },
          "metadata": {},
          "execution_count": 20
        }
      ]
    },
    {
      "cell_type": "code",
      "source": [
        "df.reviewText.loc[0]"
      ],
      "metadata": {
        "colab": {
          "base_uri": "https://localhost:8080/",
          "height": 53
        },
        "id": "3w_VCJ05TMPQ",
        "outputId": "d1e68995-83ad-44e9-f491-90e7feae6f02"
      },
      "execution_count": 22,
      "outputs": [
        {
          "output_type": "execute_result",
          "data": {
            "text/plain": [
              "\"They look good and stick good! I just don't like the rounded shape because I was always bumping it and Siri kept popping up and it was irritating. I just won't buy a product like this again\""
            ],
            "application/vnd.google.colaboratory.intrinsic+json": {
              "type": "string"
            }
          },
          "metadata": {},
          "execution_count": 22
        }
      ]
    },
    {
      "cell_type": "markdown",
      "source": [
        "## Training the Word2Vec Model\n",
        "\n",
        "Train the model for reviews. Use a window of size 10 i.e. 10 words before the present word and 10 words ahead. A sentence with at least 2 words should only be considered, configure this using min_count parameter.\n",
        "\n",
        "Workers define how many CPU threads to be used."
      ],
      "metadata": {
        "id": "2B7yhIROTQDs"
      }
    },
    {
      "cell_type": "markdown",
      "source": [
        "### Initialize the model"
      ],
      "metadata": {
        "id": "7F6hkmweTYsw"
      }
    },
    {
      "cell_type": "code",
      "source": [
        "model = gensim.models.Word2Vec(\n",
        "          window = 10,\n",
        "          min_count = 2,\n",
        "          workers = 4\n",
        ")"
      ],
      "metadata": {
        "id": "NOcCSXFUTfHa"
      },
      "execution_count": 25,
      "outputs": []
    },
    {
      "cell_type": "markdown",
      "source": [
        "### Build Vocabulary"
      ],
      "metadata": {
        "id": "lbDpv7nJTo_s"
      }
    },
    {
      "cell_type": "code",
      "source": [
        "model.build_vocab(review_text, progress_per = 1000)"
      ],
      "metadata": {
        "id": "zvFvohEMTvLB"
      },
      "execution_count": 26,
      "outputs": []
    },
    {
      "cell_type": "markdown",
      "source": [
        "### Train the Word2Vec Model"
      ],
      "metadata": {
        "id": "1RDW-Dr5T1ME"
      }
    },
    {
      "cell_type": "code",
      "source": [
        "model.train(review_text, total_examples = model.corpus_count, epochs = model.epochs)"
      ],
      "metadata": {
        "colab": {
          "base_uri": "https://localhost:8080/"
        },
        "id": "mrHZplYsT9dc",
        "outputId": "69ac26ca-50d2-4b5a-f08c-7490a59d9dbf"
      },
      "execution_count": 27,
      "outputs": [
        {
          "output_type": "execute_result",
          "data": {
            "text/plain": [
              "(61509043, 83868975)"
            ]
          },
          "metadata": {},
          "execution_count": 27
        }
      ]
    },
    {
      "cell_type": "markdown",
      "source": [
        "### Save the model\n",
        "\n",
        "Save the model so that it can be reused in other applications"
      ],
      "metadata": {
        "id": "pgCZz2v4UPZ9"
      }
    },
    {
      "cell_type": "code",
      "source": [
        "model.save(\"./word2vec-amazon-cell-accessories-reviews-short.model\")"
      ],
      "metadata": {
        "id": "H43lwIypUVag"
      },
      "execution_count": 28,
      "outputs": []
    },
    {
      "cell_type": "markdown",
      "source": [
        "### Finding Similar Words and Similarity between words"
      ],
      "metadata": {
        "id": "Fi2hcIdhUXm8"
      }
    },
    {
      "cell_type": "code",
      "source": [
        "model.wv.most_similar(\"bad\")"
      ],
      "metadata": {
        "colab": {
          "base_uri": "https://localhost:8080/"
        },
        "id": "Q9f0QGVeUamY",
        "outputId": "a9186295-fbe0-4e36-b25d-cc9ac5f01194"
      },
      "execution_count": 29,
      "outputs": [
        {
          "output_type": "execute_result",
          "data": {
            "text/plain": [
              "[('terrible', 0.6929665207862854),\n",
              " ('shabby', 0.6306898593902588),\n",
              " ('good', 0.6041339635848999),\n",
              " ('horrible', 0.579391360282898),\n",
              " ('okay', 0.5398659706115723),\n",
              " ('sad', 0.5261636972427368),\n",
              " ('crappy', 0.521155059337616),\n",
              " ('awful', 0.5188211798667908),\n",
              " ('poor', 0.5182947516441345),\n",
              " ('cheap', 0.5121626853942871)]"
            ]
          },
          "metadata": {},
          "execution_count": 29
        }
      ]
    },
    {
      "cell_type": "code",
      "source": [
        "model.wv.similarity(w1=\"cheap\", w2=\"inexpensive\")"
      ],
      "metadata": {
        "colab": {
          "base_uri": "https://localhost:8080/"
        },
        "id": "FZGq-gbEUcBS",
        "outputId": "4d9945fc-3a45-4f06-99ef-f01e58e182d6"
      },
      "execution_count": 30,
      "outputs": [
        {
          "output_type": "execute_result",
          "data": {
            "text/plain": [
              "0.50729436"
            ]
          },
          "metadata": {},
          "execution_count": 30
        }
      ]
    },
    {
      "cell_type": "code",
      "source": [
        "model.wv.similarity(w1=\"great\", w2=\"good\")\n"
      ],
      "metadata": {
        "colab": {
          "base_uri": "https://localhost:8080/"
        },
        "id": "edIl-xsSUdYw",
        "outputId": "44b71bc7-3e3d-4dd4-8f69-28912317db90"
      },
      "execution_count": 31,
      "outputs": [
        {
          "output_type": "execute_result",
          "data": {
            "text/plain": [
              "0.7714366"
            ]
          },
          "metadata": {},
          "execution_count": 31
        }
      ]
    }
  ]
}